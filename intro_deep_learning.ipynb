{
 "cells": [
  {
   "cell_type": "markdown",
   "id": "4de1a5eb-349d-4e44-8c5b-b8a098d927c4",
   "metadata": {},
   "source": [
    "# Deep Learning \n",
    "\n",
    "Section Goals \n",
    "- Understand basic over view of Deep learning\n",
    "- Undertand basic of LSTM and RNN\n",
    "- Use LSTM to generate text from source corpus\n",
    "- Create QA Chat Bots with Python\n",
    "\n",
    "  Introduction to the Perceptron\n",
    "  - Artificial Neural Networks (ANN) have a basis in biology!\n",
    "  - Let's see how we can attempt to mimic a biological neuron, known as a perception! "
   ]
  },
  {
   "cell_type": "code",
   "execution_count": null,
   "id": "af221070-e2e2-4a0c-a653-28d249df7a54",
   "metadata": {},
   "outputs": [],
   "source": []
  }
 ],
 "metadata": {
  "kernelspec": {
   "display_name": "Python [conda env:base] *",
   "language": "python",
   "name": "conda-base-py"
  },
  "language_info": {
   "codemirror_mode": {
    "name": "ipython",
    "version": 3
   },
   "file_extension": ".py",
   "mimetype": "text/x-python",
   "name": "python",
   "nbconvert_exporter": "python",
   "pygments_lexer": "ipython3",
   "version": "3.12.3"
  }
 },
 "nbformat": 4,
 "nbformat_minor": 5
}
